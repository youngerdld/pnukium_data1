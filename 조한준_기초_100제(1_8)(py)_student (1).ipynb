{
  "nbformat": 4,
  "nbformat_minor": 0,
  "metadata": {
    "colab": {
      "provenance": [],
      "toc_visible": true
    },
    "kernelspec": {
      "name": "python3",
      "display_name": "Python 3"
    }
  },
  "cells": [
    {
      "cell_type": "markdown",
      "metadata": {
        "id": "v4sFDDlCeYCA"
      },
      "source": [
        "# 6001 : [기초-출력] 출력하기01(설명)(py)"
      ]
    },
    {
      "cell_type": "code",
      "metadata": {
        "id": "Qkjq0vR8eWsA",
        "colab": {
          "base_uri": "https://localhost:8080/"
        },
        "outputId": "cd4b018f-6546-4638-c030-a1ff66fb20bd"
      },
      "source": [
        "print('Hello')"
      ],
      "execution_count": null,
      "outputs": [
        {
          "output_type": "stream",
          "name": "stdout",
          "text": [
            "Hello\n"
          ]
        }
      ]
    },
    {
      "cell_type": "markdown",
      "metadata": {
        "id": "tkcOJckBfLx2"
      },
      "source": [
        "# 6002 : [기초-출력] 출력하기02(설명)(py)"
      ]
    },
    {
      "cell_type": "code",
      "metadata": {
        "id": "bbbe3g44fUBa",
        "colab": {
          "base_uri": "https://localhost:8080/"
        },
        "outputId": "28f8a349-2b71-473a-f55f-05db1efe13be"
      },
      "source": [
        "print('Hello,world')"
      ],
      "execution_count": null,
      "outputs": [
        {
          "output_type": "stream",
          "name": "stdout",
          "text": [
            "Hello,world\n"
          ]
        }
      ]
    },
    {
      "cell_type": "markdown",
      "metadata": {
        "id": "fLYo7wwSfX0X"
      },
      "source": [
        "# 6003 : [기초-출력] 출력하기03(설명)(py)"
      ]
    },
    {
      "cell_type": "code",
      "metadata": {
        "id": "ZqlEUPoSfa2Q",
        "colab": {
          "base_uri": "https://localhost:8080/"
        },
        "outputId": "74f00968-06b9-40a2-97bb-271cd0e9aaed"
      },
      "source": [
        "print('Hello')\n",
        "print('World')"
      ],
      "execution_count": null,
      "outputs": [
        {
          "output_type": "stream",
          "name": "stdout",
          "text": [
            "Hello\n",
            "World\n"
          ]
        }
      ]
    },
    {
      "cell_type": "markdown",
      "metadata": {
        "id": "6nRMalqYfd7r"
      },
      "source": [
        "# 6004 : [기초-출력] 출력하기04(설명)(py)"
      ]
    },
    {
      "cell_type": "code",
      "metadata": {
        "id": "c1p3NzyofjkR",
        "colab": {
          "base_uri": "https://localhost:8080/"
        },
        "outputId": "7f585fd7-b57c-48c0-f9f7-6393d1691eef"
      },
      "source": [
        "print('hello')"
      ],
      "execution_count": null,
      "outputs": [
        {
          "output_type": "stream",
          "name": "stdout",
          "text": [
            "hello\n"
          ]
        }
      ]
    },
    {
      "cell_type": "markdown",
      "metadata": {
        "id": "7GuAFt2rfmfV"
      },
      "source": [
        "# 6005 : [기초-출력] 출력하기05(설명)(py)"
      ]
    },
    {
      "cell_type": "code",
      "metadata": {
        "id": "E1NRFlGHfsVo",
        "colab": {
          "base_uri": "https://localhost:8080/"
        },
        "outputId": "01b2f891-910d-4c20-d04a-8b451c097ab0"
      },
      "source": [
        "print(\"Hello Wodld\")"
      ],
      "execution_count": null,
      "outputs": [
        {
          "output_type": "stream",
          "name": "stdout",
          "text": [
            "Hello Wodld\n"
          ]
        }
      ]
    },
    {
      "cell_type": "markdown",
      "metadata": {
        "id": "h2c_JjORfvX5"
      },
      "source": [
        "# 6006 : [기초-출력] 출력하기06(py)"
      ]
    },
    {
      "cell_type": "code",
      "metadata": {
        "id": "GmGRxgZLfzcU",
        "colab": {
          "base_uri": "https://localhost:8080/"
        },
        "outputId": "9bd552e6-241b-46f5-97c7-fe25c94c10ec"
      },
      "source": [
        "print('\"!@#$%^&*()\"')"
      ],
      "execution_count": null,
      "outputs": [
        {
          "output_type": "stream",
          "name": "stdout",
          "text": [
            "\"!@#$%^&*()\"\n"
          ]
        }
      ]
    },
    {
      "cell_type": "markdown",
      "metadata": {
        "id": "__YvsVxbf4aT"
      },
      "source": [
        "# 6007 : [기초-출력] 출력하기07(py)"
      ]
    },
    {
      "cell_type": "code",
      "metadata": {
        "id": "I0Px58Rrf6AK",
        "colab": {
          "base_uri": "https://localhost:8080/"
        },
        "outputId": "e535734a-1519-4fb2-b03d-d14fa7d1cc19"
      },
      "source": [
        "print(\"c:\\Down l oad| hello' .py\")"
      ],
      "execution_count": null,
      "outputs": [
        {
          "output_type": "stream",
          "name": "stdout",
          "text": [
            "c:\\Down l oad| hello' .py\n"
          ]
        }
      ]
    },
    {
      "cell_type": "markdown",
      "metadata": {
        "id": "WmTwy_AKf9Dj"
      },
      "source": [
        "# 6008 : [기초-출력] 출력하기08(py)"
      ]
    },
    {
      "cell_type": "code",
      "metadata": {
        "id": "1reBjRnNf_7m",
        "colab": {
          "base_uri": "https://localhost:8080/"
        },
        "outputId": "e69dbef2-5796-4e18-f768-59e4deb2876c"
      },
      "source": [
        "print(\"Hello\\n\\orld\")\n"
      ],
      "execution_count": null,
      "outputs": [
        {
          "output_type": "stream",
          "name": "stdout",
          "text": [
            "Hello\n",
            "\\orld\n"
          ]
        }
      ]
    }
  ]
}